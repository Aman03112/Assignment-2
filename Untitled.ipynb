{
 "cells": [
  {
   "cell_type": "markdown",
   "id": "6a6bb387-c26b-40a5-9656-1f55f5356424",
   "metadata": {},
   "source": [
    "---------------------------->Assignment 2"
   ]
  },
  {
   "cell_type": "markdown",
   "id": "7ca0247b-0173-4629-9aa5-992c938758e8",
   "metadata": {},
   "source": [
    "1. Write a Python program to convert kilometers to miles?"
   ]
  },
  {
   "cell_type": "code",
   "execution_count": 3,
   "id": "3af5c922-5118-4429-b321-96b09a73803f",
   "metadata": {},
   "outputs": [
    {
     "name": "stdin",
     "output_type": "stream",
     "text": [
      "enter the value of : 11\n"
     ]
    },
    {
     "name": "stdout",
     "output_type": "stream",
     "text": [
      "Miles in 11 are: 6.8309999999999995\n"
     ]
    }
   ],
   "source": [
    "kilometer = int(input(\"enter the value of :\"))\n",
    "miles = 0.621\n",
    "value = kilometer*miles\n",
    "print(f\"Miles in {kilometer} are: {value}\")\n",
    "\n"
   ]
  },
  {
   "cell_type": "code",
   "execution_count": 4,
   "id": "325f257b-4f90-423f-b78e-b488485440e7",
   "metadata": {},
   "outputs": [],
   "source": [
    "def fun():\n",
    "    kilometer = int(input(\"enter the valus of kilometer :\"))\n",
    "    miles = 0.621\n",
    "    value = kilometer*miles\n",
    "    print(f\"Miles in {kilometer} are: {value}\")\n",
    "    "
   ]
  },
  {
   "cell_type": "code",
   "execution_count": 5,
   "id": "94089076-1c1f-4c2b-a210-74cffbf405a6",
   "metadata": {},
   "outputs": [
    {
     "name": "stdin",
     "output_type": "stream",
     "text": [
      "enter the valus of kilometer : 11\n"
     ]
    },
    {
     "name": "stdout",
     "output_type": "stream",
     "text": [
      "Miles in 11 are: 6.8309999999999995\n"
     ]
    }
   ],
   "source": [
    "fun()"
   ]
  },
  {
   "cell_type": "markdown",
   "id": "8d465bd1-337f-4e76-a5b0-4b656e9faf80",
   "metadata": {},
   "source": [
    "2. Write a Python program to convert Celsius to Fahrenheit?"
   ]
  },
  {
   "cell_type": "code",
   "execution_count": 15,
   "id": "0468eede-1b41-4e6a-ab0d-078b8eec2718",
   "metadata": {},
   "outputs": [
    {
     "name": "stdin",
     "output_type": "stream",
     "text": [
      "Enter the value of Celsius : 1\n"
     ]
    },
    {
     "name": "stdout",
     "output_type": "stream",
     "text": [
      "Fahrenhite in 1 are: 33.8\n"
     ]
    }
   ],
   "source": [
    "celsius = int(input(\"Enter the value of Celsius :\"))\n",
    "Fahrenheit = (celsius * 9/5) + 32 \n",
    "\n",
    "print(f\"Fahrenhite in {celsius} are: {Fahrenheit}\")"
   ]
  },
  {
   "cell_type": "code",
   "execution_count": 13,
   "id": "995c496e-0d59-4052-8abe-4364c5094e3a",
   "metadata": {},
   "outputs": [],
   "source": [
    "def fun():\n",
    "    celsius = int(input(\"Enter the value of Celsius :\"))\n",
    "    Fahrenheit = (celsius * 9/5) + 32 \n",
    "\n",
    "    print(f\"Fahrenhite in {celsius} are: {Fahrenheit}\")\n",
    "    "
   ]
  },
  {
   "cell_type": "code",
   "execution_count": 15,
   "id": "29fcca04-e910-4780-8f53-53e7957d0ba6",
   "metadata": {},
   "outputs": [
    {
     "name": "stdin",
     "output_type": "stream",
     "text": [
      "Enter the value of Celsius : 1\n"
     ]
    },
    {
     "name": "stdout",
     "output_type": "stream",
     "text": [
      "Fahrenhite in 1 are: 33.8\n"
     ]
    }
   ],
   "source": [
    "fun()"
   ]
  },
  {
   "cell_type": "code",
   "execution_count": 23,
   "id": "fbb72298-633b-4668-aa52-158ae07d9557",
   "metadata": {},
   "outputs": [
    {
     "name": "stdin",
     "output_type": "stream",
     "text": [
      "Enter the value of : 1\n"
     ]
    },
    {
     "name": "stdout",
     "output_type": "stream",
     "text": [
      "Fahrenhite in 1.0 are: 33.8\n"
     ]
    },
    {
     "data": {
      "text/plain": [
       "33.8"
      ]
     },
     "execution_count": 23,
     "metadata": {},
     "output_type": "execute_result"
    }
   ],
   "source": [
    "def celsiut_to_fahrenhiet(celsius):\n",
    "    Fahrenheit = (celsius * 9/5) + 32 \n",
    "\n",
    "    print(f\"Fahrenhite in {celsius} are: {Fahrenheit}\")\n",
    "    return Fahrenheit\n",
    "celsius = float(input(\"Enter the value of :\"))\n",
    "celsiut_to_fahrenhiet(celsius)"
   ]
  },
  {
   "cell_type": "markdown",
   "id": "30ea779b-f1f8-489d-aa8a-742863027a49",
   "metadata": {},
   "source": [
    "3. Write a Python program to display calendar?"
   ]
  },
  {
   "cell_type": "code",
   "execution_count": 70,
   "id": "37d79ac6-c926-4e3d-8c5f-8a998dfa8769",
   "metadata": {},
   "outputs": [
    {
     "name": "stdout",
     "output_type": "stream",
     "text": [
      "                                  2025\n",
      "\n",
      "      January                   February                   March\n",
      "Mo Tu We Th Fr Sa Su      Mo Tu We Th Fr Sa Su      Mo Tu We Th Fr Sa Su\n",
      "       1  2  3  4  5                      1  2                      1  2\n",
      " 6  7  8  9 10 11 12       3  4  5  6  7  8  9       3  4  5  6  7  8  9\n",
      "13 14 15 16 17 18 19      10 11 12 13 14 15 16      10 11 12 13 14 15 16\n",
      "20 21 22 23 24 25 26      17 18 19 20 21 22 23      17 18 19 20 21 22 23\n",
      "27 28 29 30 31            24 25 26 27 28            24 25 26 27 28 29 30\n",
      "                                                    31\n",
      "\n",
      "       April                      May                       June\n",
      "Mo Tu We Th Fr Sa Su      Mo Tu We Th Fr Sa Su      Mo Tu We Th Fr Sa Su\n",
      "    1  2  3  4  5  6                1  2  3  4                         1\n",
      " 7  8  9 10 11 12 13       5  6  7  8  9 10 11       2  3  4  5  6  7  8\n",
      "14 15 16 17 18 19 20      12 13 14 15 16 17 18       9 10 11 12 13 14 15\n",
      "21 22 23 24 25 26 27      19 20 21 22 23 24 25      16 17 18 19 20 21 22\n",
      "28 29 30                  26 27 28 29 30 31         23 24 25 26 27 28 29\n",
      "                                                    30\n",
      "\n",
      "        July                     August                  September\n",
      "Mo Tu We Th Fr Sa Su      Mo Tu We Th Fr Sa Su      Mo Tu We Th Fr Sa Su\n",
      "    1  2  3  4  5  6                   1  2  3       1  2  3  4  5  6  7\n",
      " 7  8  9 10 11 12 13       4  5  6  7  8  9 10       8  9 10 11 12 13 14\n",
      "14 15 16 17 18 19 20      11 12 13 14 15 16 17      15 16 17 18 19 20 21\n",
      "21 22 23 24 25 26 27      18 19 20 21 22 23 24      22 23 24 25 26 27 28\n",
      "28 29 30 31               25 26 27 28 29 30 31      29 30\n",
      "\n",
      "      October                   November                  December\n",
      "Mo Tu We Th Fr Sa Su      Mo Tu We Th Fr Sa Su      Mo Tu We Th Fr Sa Su\n",
      "       1  2  3  4  5                      1  2       1  2  3  4  5  6  7\n",
      " 6  7  8  9 10 11 12       3  4  5  6  7  8  9       8  9 10 11 12 13 14\n",
      "13 14 15 16 17 18 19      10 11 12 13 14 15 16      15 16 17 18 19 20 21\n",
      "20 21 22 23 24 25 26      17 18 19 20 21 22 23      22 23 24 25 26 27 28\n",
      "27 28 29 30 31            24 25 26 27 28 29 30      29 30 31\n",
      "\n"
     ]
    }
   ],
   "source": [
    "import calendar\n",
    "print(calendar.calendar(2025))"
   ]
  },
  {
   "cell_type": "markdown",
   "id": "839a7bd4-ebba-4737-84c4-2c6d863e15db",
   "metadata": {},
   "source": [
    "4. Write a Python program to solve quadratic equation?"
   ]
  },
  {
   "cell_type": "code",
   "execution_count": 97,
   "id": "1ff5ea0e-e85c-4b88-880c-7fe871219182",
   "metadata": {},
   "outputs": [
    {
     "name": "stdin",
     "output_type": "stream",
     "text": [
      "enter the value of a 4\n",
      "enter the value of b 3\n",
      "enter the value of c 6\n"
     ]
    },
    {
     "name": "stdout",
     "output_type": "stream",
     "text": [
      "the roots are\n",
      "(-3-1.165922381636102j)\n",
      "(-3+1.165922381636102j)\n"
     ]
    }
   ],
   "source": [
    "import cmath\n",
    "a =int(input(\"enter the value of a\"))\n",
    "b =int(input(\"enter the value of b\"))\n",
    "c =int(input(\"enter the value of c\"))\n",
    "\n",
    "dis = (b**2)- (4*a*c)\n",
    "\n",
    "ans1 = (-b-cmath.sqrt(dis)/(2 * a))\n",
    "ans2 = (-b + cmath.sqrt(dis)/(2 * a))\n",
    "\n",
    "print(\"the roots are\")\n",
    "print(ans1)\n",
    "\n",
    "print(ans2)"
   ]
  },
  {
   "cell_type": "markdown",
   "id": "7ca4174d-e280-40d5-bb7e-fdacf004a6e9",
   "metadata": {},
   "source": [
    "5. Write a Python program to swap two variables without temp variable?"
   ]
  },
  {
   "cell_type": "code",
   "execution_count": 3,
   "id": "aaadfb56-e75b-4451-b2f3-8a2af3ac0e3d",
   "metadata": {},
   "outputs": [
    {
     "name": "stdin",
     "output_type": "stream",
     "text": [
      "enter the value of a : 1\n",
      "enter the value of b : 2\n"
     ]
    },
    {
     "name": "stdout",
     "output_type": "stream",
     "text": [
      "before swapping1,2\n",
      "after swapping2,1\n"
     ]
    }
   ],
   "source": [
    "a = int(input(\"enter the value of a :\"))\n",
    "b = int(input(\"enter the value of b :\"))\n",
    "\n",
    "print(f\"before swapping{a},{b}\")\n",
    "a,b=b,a\n",
    "print(f\"after swapping{a},{b}\")"
   ]
  },
  {
   "cell_type": "code",
   "execution_count": null,
   "id": "e64f82b6-4b97-4127-9c21-42c66edf5efe",
   "metadata": {},
   "outputs": [],
   "source": []
  }
 ],
 "metadata": {
  "kernelspec": {
   "display_name": "Python 3 (ipykernel)",
   "language": "python",
   "name": "python3"
  },
  "language_info": {
   "codemirror_mode": {
    "name": "ipython",
    "version": 3
   },
   "file_extension": ".py",
   "mimetype": "text/x-python",
   "name": "python",
   "nbconvert_exporter": "python",
   "pygments_lexer": "ipython3",
   "version": "3.12.7"
  }
 },
 "nbformat": 4,
 "nbformat_minor": 5
}
